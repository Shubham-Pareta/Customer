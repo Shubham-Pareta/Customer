{
 "cells": [
  {
   "cell_type": "code",
   "execution_count": null,
   "id": "46f28f3b-41fa-4fa6-8bec-0e8a387d1009",
   "metadata": {},
   "outputs": [],
   "source": [
    "import numpy as np\n",
    "import pandas as pd\n",
    "import matplotlib.pyplot as plt\n",
    "import seaborn as sns\n",
    "import os,joblib\n",
    "import warnings\n",
    "warnings.filterwarnings('ignore')"
   ]
  },
  {
   "cell_type": "code",
   "execution_count": null,
   "id": "b7a2ae10-346c-42e7-8330-a88897c4d462",
   "metadata": {},
   "outputs": [],
   "source": [
    "Data_file_path='https://raw.githubusercontent.com/upflairs-pvt-ltd/1st_june_data_science/master/customer_satisfaction/cust_satisfaction.csv'\n",
    "df=pd.read_csv(Data_file_path)\n",
    "df.head()"
   ]
  },
  {
   "cell_type": "code",
   "execution_count": null,
   "id": "a27f7146-936f-4049-99c4-469ce93d0bb1",
   "metadata": {},
   "outputs": [],
   "source": [
    "df.info()"
   ]
  },
  {
   "cell_type": "code",
   "execution_count": null,
   "id": "bc1dd167-c8cc-49e1-b84d-b3cf2e8620a1",
   "metadata": {},
   "outputs": [],
   "source": [
    "df.duplicated().sum()"
   ]
  },
  {
   "cell_type": "code",
   "execution_count": null,
   "id": "e7d58a82-b08a-468c-990f-f44935b8efa6",
   "metadata": {},
   "outputs": [],
   "source": [
    "df.isnull().sum()"
   ]
  },
  {
   "cell_type": "code",
   "execution_count": null,
   "id": "75afb6cb-0194-40a0-81b9-2fdcf3244f0b",
   "metadata": {},
   "outputs": [],
   "source": [
    "df.dropna(inplace=True)"
   ]
  },
  {
   "cell_type": "code",
   "execution_count": null,
   "id": "d800fd58-7a74-4728-9c3e-fb5afeb6e92a",
   "metadata": {},
   "outputs": [],
   "source": [
    "df.isnull().sum()"
   ]
  },
  {
   "cell_type": "code",
   "execution_count": null,
   "id": "dde9e407-2b15-41e7-b19b-84cea069f187",
   "metadata": {},
   "outputs": [],
   "source": [
    "female=df[df[\"Gender\"]==\"Female\"]\n",
    "female[\"Customer Type\"].value_counts()"
   ]
  },
  {
   "cell_type": "code",
   "execution_count": null,
   "id": "14518ef9-3d57-4b0a-b438-af60e8c6d6b6",
   "metadata": {},
   "outputs": [],
   "source": [
    "male=df[df[\"Gender\"]==\"Male\"]\n",
    "male[\"Customer Type\"].value_counts()"
   ]
  },
  {
   "cell_type": "code",
   "execution_count": null,
   "id": "dc994707-94e5-44bf-a583-8fb80be1b554",
   "metadata": {},
   "outputs": [],
   "source": [
    "label=list(df[\"Class\"].value_counts().keys())\n",
    "count=list(df[\"Class\"].value_counts().values)"
   ]
  },
  {
   "cell_type": "code",
   "execution_count": null,
   "id": "0a3c5abc-6f20-47bf-9448-59effd725686",
   "metadata": {},
   "outputs": [],
   "source": [
    "# Classification imbalance or balance dataset -->  60:40 ratio\n",
    "df['satisfaction'].value_counts()"
   ]
  },
  {
   "cell_type": "code",
   "execution_count": null,
   "id": "e66d69fc-3912-4653-8f55-85a1d27e3f7f",
   "metadata": {},
   "outputs": [],
   "source": [
    "sns.barplot(x=label,y=count,palette='dark:r')\n",
    "plt.show()"
   ]
  },
  {
   "cell_type": "code",
   "execution_count": null,
   "id": "a219b108-2f4b-4393-9ac8-7a05f0d434aa",
   "metadata": {},
   "outputs": [],
   "source": [
    "sns.countplot(x='Class',data=df,hue=\"Gender\")\n",
    "plt.show()"
   ]
  },
  {
   "cell_type": "code",
   "execution_count": null,
   "id": "f34a7089-4e13-4f14-a5a2-506afeb30cd2",
   "metadata": {},
   "outputs": [],
   "source": [
    "sns.countplot(x='Type of Travel',data=df,hue=\"Gender\")\n",
    "plt.show()"
   ]
  },
  {
   "cell_type": "code",
   "execution_count": null,
   "id": "79a4f0c7-7f03-4f41-9a88-d569d085ba85",
   "metadata": {},
   "outputs": [],
   "source": [
    "sns.countplot(x='Inflight entertainment',data=df,hue=\"Gender\")\n",
    "plt.show()"
   ]
  },
  {
   "cell_type": "code",
   "execution_count": null,
   "id": "70e30e78-41f3-4f60-8cbe-eeb8a9cd5ba2",
   "metadata": {},
   "outputs": [],
   "source": [
    "sns.countplot(x='Baggage handling',data=df,hue=\"Gender\")\n",
    "plt.show()"
   ]
  },
  {
   "cell_type": "code",
   "execution_count": null,
   "id": "9e95b624-4c98-4401-8e34-c9fa2ff9d7e9",
   "metadata": {},
   "outputs": [],
   "source": [
    "sns.countplot(x='Cleanliness',data=df,hue=\"Gender\")\n",
    "plt.show()"
   ]
  },
  {
   "cell_type": "code",
   "execution_count": null,
   "id": "5c09c020-43ca-4508-8988-957fd3cd954f",
   "metadata": {},
   "outputs": [],
   "source": [
    "#from sklearn.preprocessing import OneHotEncoder, LabelEncoder\n",
    "# onehot encoding representation ->\n",
    "df2=pd.get_dummies(df,drop_first=\"if_binary\").astype(int)\n",
    "df2.head(10)"
   ]
  },
  {
   "cell_type": "code",
   "execution_count": null,
   "id": "41e6f279-a3fe-41b1-b00f-9371c7758a93",
   "metadata": {},
   "outputs": [],
   "source": [
    "# X and Y split  -->>\n",
    "x=df2.drop(\"satisfaction_satisfied\",axis=1)\n",
    "y=df2[[\"satisfaction_satisfied\"]]"
   ]
  },
  {
   "cell_type": "code",
   "execution_count": null,
   "id": "4aafa6af-1c48-463b-86dc-175641374899",
   "metadata": {},
   "outputs": [],
   "source": [
    "from sklearn.model_selection import train_test_split"
   ]
  },
  {
   "cell_type": "code",
   "execution_count": null,
   "id": "61e46a3d-c146-4e09-b177-9cb5f47e5510",
   "metadata": {},
   "outputs": [],
   "source": [
    "x_train,x_test,y_train,y_test=train_test_split(x,y,test_size=0.2)"
   ]
  },
  {
   "cell_type": "code",
   "execution_count": null,
   "id": "5b872e78-0342-4f26-9fba-250d10e4e030",
   "metadata": {},
   "outputs": [],
   "source": [
    "# Model or Algorithm training\n",
    "# logistic Algorithm\n",
    "from sklearn.linear_model import LogisticRegression\n",
    "lgr=LogisticRegression()"
   ]
  },
  {
   "cell_type": "code",
   "execution_count": null,
   "id": "c9715612-a3a4-4434-9e18-a171547639ca",
   "metadata": {},
   "outputs": [],
   "source": [
    "lgr.fit(x_train,y_train)"
   ]
  },
  {
   "cell_type": "code",
   "execution_count": null,
   "id": "766df37b-4e8d-476c-824a-153035cf9ae5",
   "metadata": {},
   "outputs": [],
   "source": [
    "print(\"Training Score :\",lgr.score(x_train,y_train)*100)\n",
    "print(\"Testing Score :\",lgr.score(x_test,y_test)*100)"
   ]
  },
  {
   "cell_type": "code",
   "execution_count": null,
   "id": "f2fb0a81-2812-4176-829d-e0d354684585",
   "metadata": {},
   "outputs": [],
   "source": [
    "# Prediction \n",
    "pred=lgr.predict(x_test)"
   ]
  },
  {
   "cell_type": "code",
   "execution_count": null,
   "id": "3afe2da4-331c-480d-9889-0c50b9b18fed",
   "metadata": {},
   "outputs": [],
   "source": [
    "y_test['prediction']=pred\n",
    "y_test.head(40)"
   ]
  },
  {
   "cell_type": "code",
   "execution_count": null,
   "id": "b88d63a6-8291-4bf8-a841-fdc6e8c8d718",
   "metadata": {},
   "outputs": [],
   "source": [
    "from sklearn.metrics import confusion_matrix,classification_report"
   ]
  },
  {
   "cell_type": "code",
   "execution_count": null,
   "id": "f191f3e1-6a47-4012-bfae-1ae22897f6f3",
   "metadata": {},
   "outputs": [],
   "source": [
    "#confusion_matrix(ACTUAL_VALUE, PREDICTED_VALUE)                               # array([[ True Positive(1-1)   False Positive(0-1) ],\n",
    "confusion_matrix(y_test['satisfaction_satisfied'],y_test['prediction'])        #          False Negative(1-0)     True Negative(0-0)]])"
   ]
  },
  {
   "cell_type": "code",
   "execution_count": null,
   "id": "90a9bbff-d213-432c-be53-5fc24c712593",
   "metadata": {},
   "outputs": [],
   "source": [
    "# Accuracy= (TP+TN)/(TP+TN+FP+FN)\n",
    "(9578+6832)/(9578+6832+2172+2137)"
   ]
  },
  {
   "cell_type": "code",
   "execution_count": null,
   "id": "d0f3474a-835c-4c68-971e-720de3803028",
   "metadata": {},
   "outputs": [],
   "source": [
    "# Precision=(TP)/(TP+FP)\n",
    "# Recall=(TP)/(TP+FN)\n",
    "# F1-Score=(2*P*R)/(P+R)   OR    (2)/((1/P)+(1/R))"
   ]
  },
  {
   "cell_type": "code",
   "execution_count": null,
   "id": "ef77666e-b894-4b34-8d8e-2b383b3d337a",
   "metadata": {},
   "outputs": [],
   "source": [
    "print(classification_report(y_test['satisfaction_satisfied'],y_test['prediction'])) "
   ]
  },
  {
   "cell_type": "code",
   "execution_count": null,
   "id": "85bf4b78-c3e0-4529-a1cd-cad498681854",
   "metadata": {},
   "outputs": [],
   "source": [
    "os.makedirs('models',exist_ok=True)\n",
    "joblib.dump(lgr,'./models/logisticregression.lb')"
   ]
  },
  {
   "cell_type": "code",
   "execution_count": null,
   "id": "764980a1-66b2-4d05-80b8-52da7404884e",
   "metadata": {},
   "outputs": [],
   "source": []
  }
 ],
 "metadata": {
  "kernelspec": {
   "display_name": "Python 3 (ipykernel)",
   "language": "python",
   "name": "python3"
  },
  "language_info": {
   "codemirror_mode": {
    "name": "ipython",
    "version": 3
   },
   "file_extension": ".py",
   "mimetype": "text/x-python",
   "name": "python",
   "nbconvert_exporter": "python",
   "pygments_lexer": "ipython3",
   "version": "3.12.4"
  }
 },
 "nbformat": 4,
 "nbformat_minor": 5
}
